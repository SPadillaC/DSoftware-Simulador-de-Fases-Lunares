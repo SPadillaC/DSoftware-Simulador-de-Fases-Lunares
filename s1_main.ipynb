{
 "cells": [
  {
   "cell_type": "code",
   "execution_count": 2,
   "metadata": {},
   "outputs": [
    {
     "name": "stdout",
     "output_type": "stream",
     "text": [
      "Constelación: Pisces\n",
      "Magnitud: -11.29\n",
      "Distancia: 370351 km\n",
      "Fase: 26.62%\n",
      "Siguiente Luna Nueva: 2024/6/6 12:37:41\n",
      "Siguiente Luna Llena: 2024/6/22 01:07:49\n"
     ]
    }
   ],
   "source": [
    "import sys\n",
    "import os\n",
    "\n",
    "# Ajuste para Jupyter Notebook\n",
    "if '__file__' not in globals():\n",
    "    # Si estamos en un entorno interactivo (Jupyter Notebook)\n",
    "    current_dir = os.getcwd()\n",
    "else:\n",
    "    # Si estamos en un script normal\n",
    "    current_dir = os.path.dirname(__file__)\n",
    "\n",
    "sys.path.insert(0, os.path.abspath(os.path.join(current_dir, 'src')))\n",
    "\n",
    "from datetime import datetime\n",
    "from simulador_fases_lunares.observador import crear_observador # type: ignore\n",
    "from simulador_fases_lunares.datos_lunares import calcular_fase_lunar # type: ignore\n",
    "\n",
    "def solicitar_fecha_hora():\n",
    "    while True:\n",
    "        fecha_hora_entrada = input(\"Ingrese la fecha y hora (AAAA-MM-DD HH:MM:SS): \")\n",
    "        try:\n",
    "            dt = datetime.strptime(fecha_hora_entrada, \"%Y-%m-%d %H:%M:%S\")\n",
    "            return dt\n",
    "        except ValueError:\n",
    "            print(\"Formato de fecha y hora incorrecto. Por favor, intente nuevamente.\")\n",
    "\n",
    "def main():\n",
    "    # Solicitar fecha y hora al usuario\n",
    "    dt = solicitar_fecha_hora()\n",
    "    \n",
    "    # Crear el observador\n",
    "    observador = crear_observador(dt)\n",
    "    \n",
    "    # Calcular las fases lunares y obtener los datos\n",
    "    datos_lunares = calcular_fase_lunar(observador)\n",
    "    \n",
    "    # Imprimir los resultados en el orden solicitado\n",
    "    print(f\"Constelación: {datos_lunares['constelacion']}\")\n",
    "    print(f\"Magnitud: {datos_lunares['magnitud']}\")\n",
    "    print(f\"Distancia: {datos_lunares['distancia_km']:.0f} km\")\n",
    "    print(f\"Fase: {datos_lunares['fase']:.2f}%\")\n",
    "    print(f\"Siguiente Luna Nueva: {datos_lunares['siguiente_luna_nueva']}\")\n",
    "    print(f\"Siguiente Luna Llena: {datos_lunares['siguiente_luna_llena']}\")\n",
    "\n",
    "if __name__ == \"__main__\":\n",
    "    main()"
   ]
  },
  {
   "cell_type": "code",
   "execution_count": null,
   "metadata": {},
   "outputs": [],
   "source": []
  }
 ],
 "metadata": {
  "kernelspec": {
   "display_name": "Python 3",
   "language": "python",
   "name": "python3"
  },
  "language_info": {
   "codemirror_mode": {
    "name": "ipython",
    "version": 3
   },
   "file_extension": ".py",
   "mimetype": "text/x-python",
   "name": "python",
   "nbconvert_exporter": "python",
   "pygments_lexer": "ipython3",
   "version": "3.12.4"
  }
 },
 "nbformat": 4,
 "nbformat_minor": 2
}
