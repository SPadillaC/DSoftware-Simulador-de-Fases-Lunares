{
 "cells": [
  {
   "cell_type": "code",
   "execution_count": 4,
   "metadata": {},
   "outputs": [
    {
     "name": "stdout",
     "output_type": "stream",
     "text": [
      "Constelación: Pisces\n",
      "Magnitud: -11.29\n",
      "Distancia: 370351 km\n",
      "Fase: 26.62%\n",
      "Siguiente Luna Nueva: 2024/6/6 12:37:41\n",
      "Siguiente Luna Llena: 2024/6/22 01:07:49\n"
     ]
    }
   ],
   "source": [
    "from datetime import datetime\n",
    "from simulador.observador import crear_observador\n",
    "from simulador.datos_lunares import calcular_fase_lunar\n",
    "\n",
    "def main():\n",
    "    # Fecha y hora\n",
    "    fecha_hora_entrada = \"2024-06-01 20:00:00\"\n",
    "    dt = datetime.strptime(fecha_hora_entrada, \"%Y-%m-%d %H:%M:%S\")\n",
    "    \n",
    "    # Crear el observador\n",
    "    observador = crear_observador(dt)\n",
    "    \n",
    "    # Calcular las fases lunares y obtener los datos\n",
    "    datos_lunares = calcular_fase_lunar(observador)\n",
    "    \n",
    "    # Imprimir los resultados en el orden solicitado\n",
    "    print(f\"Constelación: {datos_lunares['constelacion']}\")\n",
    "    print(f\"Magnitud: {datos_lunares['magnitud']}\")\n",
    "    print(f\"Distancia: {datos_lunares['distancia_km']:.0f} km\")\n",
    "    print(f\"Fase: {datos_lunares['fase']:.2f}%\")\n",
    "    print(f\"Siguiente Luna Nueva: {datos_lunares['siguiente_luna_nueva']}\")\n",
    "    print(f\"Siguiente Luna Llena: {datos_lunares['siguiente_luna_llena']}\")\n",
    "\n",
    "if __name__ == \"__main__\":\n",
    "    main()"
   ]
  }
 ],
 "metadata": {
  "kernelspec": {
   "display_name": "Python 3",
   "language": "python",
   "name": "python3"
  },
  "language_info": {
   "codemirror_mode": {
    "name": "ipython",
    "version": 3
   },
   "file_extension": ".py",
   "mimetype": "text/x-python",
   "name": "python",
   "nbconvert_exporter": "python",
   "pygments_lexer": "ipython3",
   "version": "3.12.4"
  }
 },
 "nbformat": 4,
 "nbformat_minor": 2
}
